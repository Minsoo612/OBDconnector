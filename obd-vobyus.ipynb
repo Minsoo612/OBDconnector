{
 "cells": [
  {
   "cell_type": "markdown",
   "metadata": {},
   "source": [
    "### Connect"
   ]
  },
  {
   "cell_type": "code",
   "execution_count": 1,
   "metadata": {},
   "outputs": [],
   "source": [
    "import obd\n",
    "obd.logger.setLevel(2)"
   ]
  },
  {
   "cell_type": "code",
   "execution_count": 2,
   "metadata": {
    "scrolled": false
   },
   "outputs": [
    {
     "name": "stderr",
     "output_type": "stream",
     "text": [
      "[obd.obd] ======================= python-OBD (v0.7.1) =======================\n",
      "[obd.obd] Explicit port defined\n",
      "[obd.elm327] Initializing ELM327: PORT=COM3 BAUD=38400 PROTOCOL=auto\n",
      "[obd.elm327] write: b'ATZ\\r'\n",
      "[obd.elm327] wait: 1 seconds\n",
      "[obd.elm327] read: b'\\r\\rELM327 v1.5\\r\\r>'\n",
      "[obd.elm327] write: b'ATE0\\r'\n",
      "[obd.elm327] read: b'ATE0\\rOK'\n",
      "[obd.elm327] write: b'ATH1\\r'\n",
      "[obd.elm327] read: b'OK'\n",
      "[obd.elm327] write: b'ATL0\\r'\n",
      "[obd.elm327] read: b'OK'\n",
      "[obd.elm327] write: b'AT RV\\r'\n",
      "[obd.elm327] read: b'12.1V\\r\\r>'\n",
      "[obd.elm327] write: b'ATSP0\\r'\n",
      "[obd.elm327] read: b'OK'\n",
      "[obd.elm327] write: b'0100\\r'\n",
      "[obd.elm327] read: b'SEARCHING...\\r7E8 06 41 00 BE 1B 30 13 \\r7E9 06 41 00 88 18 00 10 \\r7EA 06 41 00 80 08 00 10 \\r\\r>'\n",
      "[obd.elm327] write: b'ATDPN\\r'\n",
      "[obd.elm327] read: b'A6\\r\\r>'\n",
      "[obd.protocols.protocol] map ECU 0 --> ENGINE\n",
      "[obd.protocols.protocol] map ECU 1 --> TRANSMISSION\n",
      "[obd.protocols.protocol] map ECU 2 --> UNKNOWN\n",
      "[obd.elm327] Connected Successfully: PORT=COM3 BAUD=38400 PROTOCOL=6\n",
      "[obd.obd] querying for supported commands\n",
      "[obd.obd] Sending command: b'0100': Supported PIDs [01-20]\n",
      "[obd.elm327] write: b'0100\\r'\n",
      "[obd.elm327] read: b'7E8 06 41 00 BE 1B 30 13 \\r7E9 06 41 00 88 18 00 10 \\r7EA 06 41 00 80 08 00 10 \\r\\r>'\n",
      "[obd.obd] Sending command: b'0120': Supported PIDs [21-40]\n",
      "[obd.elm327] write: b'0120\\r'\n",
      "[obd.elm327] read: b'7E8 06 41 20 80 02 20 01 \\r\\r>'\n",
      "[obd.obd] Sending command: b'0140': Supported PIDs [41-60]\n",
      "[obd.elm327] write: b'0140\\r'\n",
      "[obd.elm327] read: b'7E8 06 41 40 44 00 00 00 \\r\\r>'\n",
      "[obd.obd] Sending command: b'0600': Supported MIDs [01-20]\n",
      "[obd.elm327] write: b'0600\\r'\n",
      "[obd.elm327] read: b'NO DATA\\r\\r>'\n",
      "[obd.obd] finished querying with 49 commands supported\n",
      "[obd.obd] ===================================================================\n"
     ]
    }
   ],
   "source": [
    "conn = obd.OBD(\"COM3\",38400, timeout=5)"
   ]
  },
  {
   "cell_type": "markdown",
   "metadata": {},
   "source": [
    "### Query OBDII commands"
   ]
  },
  {
   "cell_type": "code",
   "execution_count": 3,
   "metadata": {},
   "outputs": [
    {
     "name": "stderr",
     "output_type": "stream",
     "text": [
      "[obd.obd] Sending command: b'010C': Engine RPM\n",
      "[obd.elm327] write: b'010C\\r'\n",
      "[obd.elm327] read: b'7E8 04 41 0C 96 29 \\r7E9 04 41 0C 96 29 \\r\\r>'\n"
     ]
    }
   ],
   "source": [
    "r=conn.query(obd.commands.RPM)"
   ]
  },
  {
   "cell_type": "code",
   "execution_count": 4,
   "metadata": {},
   "outputs": [
    {
     "data": {
      "text/html": [
       "9610.25 revolutions_per_minute"
      ],
      "text/latex": [
       "$9610.25 revolutions_per_minute$"
      ],
      "text/plain": [
       "<Quantity(9610.25, 'revolutions_per_minute')>"
      ]
     },
     "execution_count": 4,
     "metadata": {},
     "output_type": "execute_result"
    }
   ],
   "source": [
    "r.value"
   ]
  },
  {
   "cell_type": "code",
   "execution_count": 5,
   "metadata": {},
   "outputs": [
    {
     "data": {
      "text/plain": [
       "'Car Connected'"
      ]
     },
     "execution_count": 5,
     "metadata": {},
     "output_type": "execute_result"
    }
   ],
   "source": [
    "conn.status()"
   ]
  },
  {
   "cell_type": "code",
   "execution_count": 6,
   "metadata": {},
   "outputs": [
    {
     "name": "stderr",
     "output_type": "stream",
     "text": [
      "[obd.obd] Sending command: b'010D': Vehicle Speed\n",
      "[obd.elm327] write: b'010D\\r'\n",
      "[obd.elm327] read: b'7E8 03 41 0D 9E \\r7E9 03 41 0D 9E \\r7EA 03 41 0D 9E \\r\\r>'\n"
     ]
    },
    {
     "data": {
      "text/html": [
       "158.0 kph"
      ],
      "text/latex": [
       "$158.0 kph$"
      ],
      "text/plain": [
       "<Quantity(158.0, 'kph')>"
      ]
     },
     "execution_count": 6,
     "metadata": {},
     "output_type": "execute_result"
    }
   ],
   "source": [
    "r = conn.query(obd.commands.SPEED)\n",
    "r.value"
   ]
  },
  {
   "cell_type": "code",
   "execution_count": 7,
   "metadata": {
    "scrolled": true
   },
   "outputs": [
    {
     "data": {
      "text/plain": [
       "(158.0, 'kph')"
      ]
     },
     "execution_count": 7,
     "metadata": {},
     "output_type": "execute_result"
    }
   ],
   "source": [
    "r.value.magnitude, r.unit"
   ]
  },
  {
   "cell_type": "code",
   "execution_count": 8,
   "metadata": {
    "scrolled": true
   },
   "outputs": [
    {
     "name": "stderr",
     "output_type": "stream",
     "text": [
      "[obd.obd] 'b'014A': Accelerator pedal position E' is not supported\n"
     ]
    }
   ],
   "source": [
    "# accelerator pedal position E\n",
    "r = conn.query(obd.commands.ACCELERATOR_POS_E)\n",
    "r.value"
   ]
  },
  {
   "cell_type": "code",
   "execution_count": 9,
   "metadata": {
    "scrolled": true
   },
   "outputs": [
    {
     "data": {
      "text/plain": [
       "{OBDCommand('PIDS_A', 'Supported PIDs [01-20]', b'0100', 6, raw_string, ecu=ECU.ENGINE, fast=True),\n",
       " OBDCommand('STATUS', 'Status since DTCs cleared', b'0101', 6, raw_string, ecu=ECU.ENGINE, fast=True),\n",
       " OBDCommand('FUEL_STATUS', 'Fuel System Status', b'0103', 4, raw_string, ecu=ECU.ENGINE, fast=True),\n",
       " OBDCommand('ENGINE_LOAD', 'Calculated Engine Load', b'0104', 3, raw_string, ecu=ECU.ENGINE, fast=True),\n",
       " OBDCommand('COOLANT_TEMP', 'Engine Coolant Temperature', b'0105', 3, raw_string, ecu=ECU.ENGINE, fast=True),\n",
       " OBDCommand('SHORT_FUEL_TRIM_1', 'Short Term Fuel Trim - Bank 1', b'0106', 3, raw_string, ecu=ECU.ENGINE, fast=True),\n",
       " OBDCommand('LONG_FUEL_TRIM_1', 'Long Term Fuel Trim - Bank 1', b'0107', 3, raw_string, ecu=ECU.ENGINE, fast=True),\n",
       " OBDCommand('RPM', 'Engine RPM', b'010C', 4, raw_string, ecu=ECU.ENGINE, fast=True),\n",
       " OBDCommand('SPEED', 'Vehicle Speed', b'010D', 3, raw_string, ecu=ECU.ENGINE, fast=True),\n",
       " OBDCommand('INTAKE_TEMP', 'Intake Air Temp', b'010F', 3, raw_string, ecu=ECU.ENGINE, fast=True),\n",
       " OBDCommand('MAF', 'Air Flow Rate (MAF)', b'0110', 4, raw_string, ecu=ECU.ENGINE, fast=True),\n",
       " OBDCommand('O2_SENSORS', 'O2 Sensors Present', b'0113', 3, raw_string, ecu=ECU.ENGINE, fast=True),\n",
       " OBDCommand('O2_B1S1', 'O2: Bank 1 - Sensor 1 Voltage', b'0114', 4, raw_string, ecu=ECU.ENGINE, fast=True),\n",
       " OBDCommand('OBD_COMPLIANCE', 'OBD Standards Compliance', b'011C', 3, raw_string, ecu=ECU.ENGINE, fast=True),\n",
       " OBDCommand('RUN_TIME', 'Engine Run Time', b'011F', 4, raw_string, ecu=ECU.ENGINE, fast=True),\n",
       " OBDCommand('PIDS_B', 'Supported PIDs [21-40]', b'0120', 6, raw_string, ecu=ECU.ENGINE, fast=True),\n",
       " OBDCommand('DISTANCE_W_MIL', 'Distance Traveled with MIL on', b'0121', 4, raw_string, ecu=ECU.ENGINE, fast=True),\n",
       " OBDCommand('FUEL_LEVEL', 'Fuel Level Input', b'012F', 3, raw_string, ecu=ECU.ENGINE, fast=True),\n",
       " OBDCommand('BAROMETRIC_PRESSURE', 'Barometric Pressure', b'0133', 3, raw_string, ecu=ECU.ENGINE, fast=True),\n",
       " OBDCommand('PIDS_C', 'Supported PIDs [41-60]', b'0140', 6, raw_string, ecu=ECU.ENGINE, fast=True),\n",
       " OBDCommand('CONTROL_MODULE_VOLTAGE', 'Control module voltage', b'0142', 4, raw_string, ecu=ECU.ENGINE, fast=True),\n",
       " OBDCommand('AMBIANT_AIR_TEMP', 'Ambient air temperature', b'0146', 3, raw_string, ecu=ECU.ENGINE, fast=True),\n",
       " OBDCommand('DTC_STATUS', 'DTC Status since DTCs cleared', b'0201', 6, raw_string, ecu=ECU.ENGINE, fast=True),\n",
       " OBDCommand('DTC_FUEL_STATUS', 'DTC Fuel System Status', b'0203', 4, raw_string, ecu=ECU.ENGINE, fast=True),\n",
       " OBDCommand('DTC_ENGINE_LOAD', 'DTC Calculated Engine Load', b'0204', 3, raw_string, ecu=ECU.ENGINE, fast=True),\n",
       " OBDCommand('DTC_COOLANT_TEMP', 'DTC Engine Coolant Temperature', b'0205', 3, raw_string, ecu=ECU.ENGINE, fast=True),\n",
       " OBDCommand('DTC_SHORT_FUEL_TRIM_1', 'DTC Short Term Fuel Trim - Bank 1', b'0206', 3, raw_string, ecu=ECU.ENGINE, fast=True),\n",
       " OBDCommand('DTC_LONG_FUEL_TRIM_1', 'DTC Long Term Fuel Trim - Bank 1', b'0207', 3, raw_string, ecu=ECU.ENGINE, fast=True),\n",
       " OBDCommand('DTC_RPM', 'DTC Engine RPM', b'020C', 4, raw_string, ecu=ECU.ENGINE, fast=True),\n",
       " OBDCommand('DTC_SPEED', 'DTC Vehicle Speed', b'020D', 3, raw_string, ecu=ECU.ENGINE, fast=True),\n",
       " OBDCommand('DTC_INTAKE_TEMP', 'DTC Intake Air Temp', b'020F', 3, raw_string, ecu=ECU.ENGINE, fast=True),\n",
       " OBDCommand('DTC_MAF', 'DTC Air Flow Rate (MAF)', b'0210', 4, raw_string, ecu=ECU.ENGINE, fast=True),\n",
       " OBDCommand('DTC_O2_SENSORS', 'DTC O2 Sensors Present', b'0213', 3, raw_string, ecu=ECU.ENGINE, fast=True),\n",
       " OBDCommand('DTC_O2_B1S1', 'DTC O2: Bank 1 - Sensor 1 Voltage', b'0214', 4, raw_string, ecu=ECU.ENGINE, fast=True),\n",
       " OBDCommand('DTC_OBD_COMPLIANCE', 'DTC OBD Standards Compliance', b'021C', 3, raw_string, ecu=ECU.ENGINE, fast=True),\n",
       " OBDCommand('DTC_RUN_TIME', 'DTC Engine Run Time', b'021F', 4, raw_string, ecu=ECU.ENGINE, fast=True),\n",
       " OBDCommand('DTC_PIDS_B', 'DTC Supported PIDs [21-40]', b'0220', 6, raw_string, ecu=ECU.ENGINE, fast=True),\n",
       " OBDCommand('DTC_DISTANCE_W_MIL', 'DTC Distance Traveled with MIL on', b'0221', 4, raw_string, ecu=ECU.ENGINE, fast=True),\n",
       " OBDCommand('DTC_FUEL_LEVEL', 'DTC Fuel Level Input', b'022F', 3, raw_string, ecu=ECU.ENGINE, fast=True),\n",
       " OBDCommand('DTC_BAROMETRIC_PRESSURE', 'DTC Barometric Pressure', b'0233', 3, raw_string, ecu=ECU.ENGINE, fast=True),\n",
       " OBDCommand('DTC_PIDS_C', 'DTC Supported PIDs [41-60]', b'0240', 6, raw_string, ecu=ECU.ENGINE, fast=True),\n",
       " OBDCommand('DTC_CONTROL_MODULE_VOLTAGE', 'DTC Control module voltage', b'0242', 4, raw_string, ecu=ECU.ENGINE, fast=True),\n",
       " OBDCommand('DTC_AMBIANT_AIR_TEMP', 'DTC Ambient air temperature', b'0246', 3, raw_string, ecu=ECU.ENGINE, fast=True),\n",
       " OBDCommand('GET_DTC', 'Get DTCs', b'03', 0, raw_string, ecu=ECU.ALL, fast=False),\n",
       " OBDCommand('CLEAR_DTC', 'Clear DTCs and Freeze data', b'04', 0, raw_string, ecu=ECU.ALL, fast=False),\n",
       " OBDCommand('MIDS_A', 'Supported MIDs [01-20]', b'0600', 0, raw_string, ecu=ECU.ALL, fast=False),\n",
       " OBDCommand('GET_CURRENT_DTC', 'Get DTCs from the current/last driving cycle', b'07', 0, raw_string, ecu=ECU.ALL, fast=False),\n",
       " OBDCommand('ELM_VERSION', 'ELM327 version string', b'ATI', 0, raw_string, ecu=1, fast=False),\n",
       " OBDCommand('ELM_VOLTAGE', 'Voltage detected by OBD-II adapter', b'ATRV', 0, raw_string, ecu=1, fast=False)}"
      ]
     },
     "execution_count": 9,
     "metadata": {},
     "output_type": "execute_result"
    }
   ],
   "source": [
    "conn.supported_commands"
   ]
  },
  {
   "cell_type": "markdown",
   "metadata": {},
   "source": [
    "### OBDStatus"
   ]
  },
  {
   "cell_type": "code",
   "execution_count": 10,
   "metadata": {},
   "outputs": [
    {
     "data": {
      "text/plain": [
       "'Car Connected'"
      ]
     },
     "execution_count": 10,
     "metadata": {},
     "output_type": "execute_result"
    }
   ],
   "source": [
    "from obd import OBDStatus\n",
    "\n",
    "# no connection is made\n",
    "OBDStatus.NOT_CONNECTED # \"Not Connected\"\n",
    "\n",
    "# successful communication with the ELM327 adapter\n",
    "OBDStatus.ELM_CONNECTED # \"ELM Connected\"\n",
    "\n",
    "# successful communication with the ELM327 adapter,\n",
    "# OBD port connected to the car, ignition off\n",
    "# (not available with argument \"check_voltage=False\")\n",
    "OBDStatus.OBD_CONNECTED # \"OBD Connected\"\n",
    "\n",
    "# successful communication with the ELM327 and the\n",
    "# vehicle; ignition on\n",
    "OBDStatus.CAR_CONNECTED # \"Car Connected\""
   ]
  },
  {
   "cell_type": "markdown",
   "metadata": {},
   "source": [
    "### Connecting ipywidget"
   ]
  },
  {
   "cell_type": "code",
   "execution_count": 11,
   "metadata": {},
   "outputs": [
    {
     "data": {
      "application/vnd.jupyter.widget-view+json": {
       "model_id": "5531ae590ba54b4d9e5b4245df43e8a0",
       "version_major": 2,
       "version_minor": 0
      },
      "text/plain": [
       "IntSlider(value=0)"
      ]
     },
     "metadata": {},
     "output_type": "display_data"
    }
   ],
   "source": [
    "from IPython.display import display\n",
    "import ipywidgets as widgets\n",
    "w = widgets.IntSlider()\n",
    "display(w)"
   ]
  },
  {
   "cell_type": "code",
   "execution_count": null,
   "metadata": {},
   "outputs": [
    {
     "data": {
      "application/vnd.jupyter.widget-view+json": {
       "model_id": "eea67c473bc4432cb15a2d84e4595675",
       "version_major": 2,
       "version_minor": 0
      },
      "text/plain": [
       "IntSlider(value=0, max=17000)"
      ]
     },
     "metadata": {},
     "output_type": "display_data"
    },
    {
     "data": {
      "application/vnd.jupyter.widget-view+json": {
       "model_id": "45e432cef2954fd29b9802a46e52ccae",
       "version_major": 2,
       "version_minor": 0
      },
      "text/plain": [
       "IntSlider(value=0, max=260)"
      ]
     },
     "metadata": {},
     "output_type": "display_data"
    },
    {
     "name": "stderr",
     "output_type": "stream",
     "text": [
      "[obd.elm327] Failed to read port\n",
      "[obd.elm327] Failed to read port\n"
     ]
    }
   ],
   "source": [
    "from __future__ import print_function\n",
    "from ipywidgets import interact, interactive, fixed, interact_manual\n",
    "import ipywidgets as widgets\n",
    "import time\n",
    "\n",
    "obd.logger.setLevel(0)\n",
    "\n",
    "running = True\n",
    "def f(rpm, speed):\n",
    "    while running:\n",
    "        try:\n",
    "            time.sleep(0.05)\n",
    "            r = conn.query(obd.commands.RPM)\n",
    "            rpm.value= r.value.magnitude\n",
    "            r = conn.query(obd.commands.SPEED)\n",
    "            speed.value= r.value.magnitude\n",
    "        except KeyboardInterrupt:\n",
    "            raise\n",
    "        except:\n",
    "            pass\n",
    "rpm = widgets.IntSlider(min=0, max=17000)\n",
    "display(rpm)\n",
    "speed = widgets.IntSlider(min=0, max=260)\n",
    "display(speed)\n",
    "f(rpm,speed)"
   ]
  },
  {
   "cell_type": "code",
   "execution_count": null,
   "metadata": {},
   "outputs": [],
   "source": [
    "running = False"
   ]
  }
 ],
 "metadata": {
  "kernelspec": {
   "display_name": "Python 3",
   "language": "python",
   "name": "python3"
  },
  "language_info": {
   "codemirror_mode": {
    "name": "ipython",
    "version": 3
   },
   "file_extension": ".py",
   "mimetype": "text/x-python",
   "name": "python",
   "nbconvert_exporter": "python",
   "pygments_lexer": "ipython3",
   "version": "3.7.7"
  }
 },
 "nbformat": 4,
 "nbformat_minor": 4
}
